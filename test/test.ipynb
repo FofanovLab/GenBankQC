{
 "cells": [
  {
   "cell_type": "code",
   "execution_count": null,
   "metadata": {
    "collapsed": false
   },
   "outputs": [],
   "source": [
    "import pytest\n",
    "import tempfile\n",
    "import shutil\n",
    "\n",
    "from genbank_qc.QC import QC\n",
    "\n",
    "genbank_qc_project = '/Users/andrew/projects/genbank-qc'\n",
    "os.chdir(genbank_qc_project)"
   ]
  },
  {
   "cell_type": "code",
   "execution_count": null,
   "metadata": {
    "collapsed": false
   },
   "outputs": [],
   "source": [
    "pytest.main(['test/test_Species.py'])\n",
    "pytest.main(['test/test_cli.py'])"
   ]
  },
  {
   "cell_type": "code",
   "execution_count": null,
   "metadata": {
    "collapsed": false
   },
   "outputs": [],
   "source": [
    "tmp = tempfile.mkdtemp()\n",
    "aphidicola = os.path.join(tmp,\n",
    "                         'Buchnera_aphidicola')\n",
    "shutil.copytree('test/resources/Buchnera_aphidicola', aphidicola)\n",
    "aphidicola = QC(aphidicola)\n",
    "aphidicola.filter()"
   ]
  },
  {
   "cell_type": "code",
   "execution_count": null,
   "metadata": {
    "collapsed": false
   },
   "outputs": [],
   "source": [
    "aphidicola.color_tree()\n",
    "!open $aphidicola.tree_img\n",
    "shutil.rmtree(tmp)"
   ]
  }
 ],
 "metadata": {
  "kernelspec": {
   "display_name": "Python [conda env:genbank-qc]",
   "language": "python",
   "name": "conda-env-genbank-qc-py"
  },
  "language_info": {
   "codemirror_mode": {
    "name": "ipython",
    "version": 3
   },
   "file_extension": ".py",
   "mimetype": "text/x-python",
   "name": "python",
   "nbconvert_exporter": "python",
   "pygments_lexer": "ipython3",
   "version": "3.4.5"
  }
 },
 "nbformat": 4,
 "nbformat_minor": 2
}
