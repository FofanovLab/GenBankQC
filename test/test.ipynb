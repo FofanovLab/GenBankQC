{
 "cells": [
  {
   "cell_type": "code",
   "execution_count": null,
   "metadata": {},
   "outputs": [],
   "source": [
    "import tempfile\n",
    "import shutil\n",
    "from genbankqc import Species\n",
    "genbankqc_project = '/Users/andrew/projects/genbank-qc'\n",
    "os.chdir(genbankqc_project)"
   ]
  },
  {
   "cell_type": "code",
   "execution_count": null,
   "metadata": {},
   "outputs": [],
   "source": [
    "import pytest\n",
    "pytest.main(['test'])"
   ]
  },
  {
   "cell_type": "code",
   "execution_count": null,
   "metadata": {},
   "outputs": [],
   "source": [
    "tmp = tempfile.mkdtemp()\n",
    "aphidicola = os.path.join(tmp, 'Buchnera_aphidicola')\n",
    "shutil.copytree('test/resources/Buchnera_aphidicola', aphidicola)\n",
    "aphidicola = Species(aphidicola)\n",
    "aphidicola.filter()\n",
    "aphidicola.color_tree()\n",
    "aphidicola.tree.render('%%inline', w=900)"
   ]
  }
 ],
 "metadata": {
  "kernelspec": {
   "display_name": "Python 3",
   "language": "python",
   "name": "python3"
  },
  "language_info": {
   "codemirror_mode": {
    "name": "ipython",
    "version": 3
   },
   "file_extension": ".py",
   "mimetype": "text/x-python",
   "name": "python",
   "nbconvert_exporter": "python",
   "pygments_lexer": "ipython3",
   "version": "3.4.5"
  }
 },
 "nbformat": 4,
 "nbformat_minor": 2
}
